{
 "cells": [
  {
   "cell_type": "code",
   "execution_count": 1,
   "id": "8f8e7205-730d-411e-a858-c7ffa1e610aa",
   "metadata": {},
   "outputs": [],
   "source": [
    "class text:\n",
    "    def __init__(self,a,b):\n",
    "        self.a=a\n",
    "        self.b=b\n",
    "    "
   ]
  },
  {
   "cell_type": "code",
   "execution_count": 2,
   "id": "a8b64690-6e23-4167-9e36-ef62f0122f4a",
   "metadata": {},
   "outputs": [],
   "source": [
    "t=text(23,45)"
   ]
  },
  {
   "cell_type": "code",
   "execution_count": 3,
   "id": "9fbfec0e-cea3-44a6-a2d2-443976fb7aff",
   "metadata": {},
   "outputs": [],
   "source": [
    "t.a=37537"
   ]
  },
  {
   "cell_type": "code",
   "execution_count": 4,
   "id": "889d24b8-7426-44c4-a22b-aa4506ecbd25",
   "metadata": {},
   "outputs": [
    {
     "data": {
      "text/plain": [
       "37537"
      ]
     },
     "execution_count": 4,
     "metadata": {},
     "output_type": "execute_result"
    }
   ],
   "source": [
    "t.a"
   ]
  },
  {
   "cell_type": "code",
   "execution_count": 10,
   "id": "03f6b828-5ab1-4679-af92-b13c3bbeef75",
   "metadata": {},
   "outputs": [],
   "source": [
    "class car:\n",
    "    def __init__(self,year,make,model,speed):\n",
    "        self.__year=year\n",
    "        self.__make=make\n",
    "        self.__model=model\n",
    "        self.__speed=speed\n",
    "    def set_speed(self,speed):\n",
    "        self.__speed= 0 if speed <0 else speed\n",
    "    def get_speed(self):\n",
    "        return self.__speed\n",
    "        "
   ]
  },
  {
   "cell_type": "code",
   "execution_count": 11,
   "id": "e2b5e8e9-04c8-43bb-b2f6-dbd58b48ac54",
   "metadata": {},
   "outputs": [],
   "source": [
    "c = car(1990,\"toyota\",\"inova\",1234)"
   ]
  },
  {
   "cell_type": "code",
   "execution_count": 9,
   "id": "ba7ecb70-852e-4149-9250-84209279ff0b",
   "metadata": {},
   "outputs": [
    {
     "data": {
      "text/plain": [
       "1990"
      ]
     },
     "execution_count": 9,
     "metadata": {},
     "output_type": "execute_result"
    }
   ],
   "source": [
    "c._car__year"
   ]
  },
  {
   "cell_type": "code",
   "execution_count": 13,
   "id": "c2893c52-827a-4d9b-ada3-c4e9544330e0",
   "metadata": {},
   "outputs": [],
   "source": [
    "c.set_speed(-986)"
   ]
  },
  {
   "cell_type": "code",
   "execution_count": 14,
   "id": "f4e713c9-e0a0-4971-affc-3511bc7abd09",
   "metadata": {},
   "outputs": [
    {
     "data": {
      "text/plain": [
       "0"
      ]
     },
     "execution_count": 14,
     "metadata": {},
     "output_type": "execute_result"
    }
   ],
   "source": [
    "c.get_speed()"
   ]
  },
  {
   "cell_type": "code",
   "execution_count": 15,
   "id": "08733d9b-1de5-47b9-8072-acf0d64db6c1",
   "metadata": {},
   "outputs": [],
   "source": [
    "c.set_speed(657)"
   ]
  },
  {
   "cell_type": "code",
   "execution_count": 16,
   "id": "5f3ab505-e58c-4bd1-99ce-7f5f052ccd00",
   "metadata": {},
   "outputs": [
    {
     "data": {
      "text/plain": [
       "657"
      ]
     },
     "execution_count": 16,
     "metadata": {},
     "output_type": "execute_result"
    }
   ],
   "source": [
    "c.get_speed()"
   ]
  },
  {
   "cell_type": "code",
   "execution_count": 18,
   "id": "66f287e5-0e8f-44c2-81f2-7ac77bb8eac3",
   "metadata": {},
   "outputs": [],
   "source": [
    "class bank_account:\n",
    "    def __init__(self,balance):\n",
    "        self.__balance=balance\n",
    "    def deposit(self,amount):\n",
    "        self.__balance=self.__balance+amount\n",
    "    def withdraw(self,amount):\n",
    "        if self.__balance>=amount:\n",
    "            self.__balance=self.__balance - amount\n",
    "            return True\n",
    "        else:\n",
    "            return False\n",
    "    def get_balance(self):\n",
    "        return self.__balance"
   ]
  },
  {
   "cell_type": "code",
   "execution_count": 19,
   "id": "21dc83dc-f3ad-44ee-8e72-93984c91b7b7",
   "metadata": {},
   "outputs": [],
   "source": [
    "tapan=bank_account(1000)"
   ]
  },
  {
   "cell_type": "code",
   "execution_count": 20,
   "id": "43d3420c-eb36-4249-a24f-51f0b55093dc",
   "metadata": {},
   "outputs": [
    {
     "data": {
      "text/plain": [
       "1000"
      ]
     },
     "execution_count": 20,
     "metadata": {},
     "output_type": "execute_result"
    }
   ],
   "source": [
    "tapan.get_balance()"
   ]
  },
  {
   "cell_type": "code",
   "execution_count": 27,
   "id": "e693720d-8506-4043-a33c-31f4722a3d74",
   "metadata": {},
   "outputs": [
    {
     "data": {
      "text/plain": [
       "26000"
      ]
     },
     "execution_count": 27,
     "metadata": {},
     "output_type": "execute_result"
    }
   ],
   "source": [
    "tapan.deposit(5000)\n",
    "tapan.get_balance()"
   ]
  },
  {
   "cell_type": "code",
   "execution_count": 25,
   "id": "69bfd5b6-c615-4487-a12c-3fe4f982c402",
   "metadata": {},
   "outputs": [
    {
     "data": {
      "text/plain": [
       "16000"
      ]
     },
     "execution_count": 25,
     "metadata": {},
     "output_type": "execute_result"
    }
   ],
   "source": [
    "tapan.get_balance()"
   ]
  },
  {
   "cell_type": "code",
   "execution_count": 28,
   "id": "6676dc96-d237-4cdc-9c5b-d05e625cf2f1",
   "metadata": {},
   "outputs": [],
   "source": [
    "tapan.deposit(1000)"
   ]
  },
  {
   "cell_type": "code",
   "execution_count": 29,
   "id": "7c05c51e-8593-4fd1-9cf2-1eccec445620",
   "metadata": {},
   "outputs": [
    {
     "data": {
      "text/plain": [
       "27000"
      ]
     },
     "execution_count": 29,
     "metadata": {},
     "output_type": "execute_result"
    }
   ],
   "source": [
    "tapan.get_balance()"
   ]
  },
  {
   "cell_type": "code",
   "execution_count": 30,
   "id": "7c6b3cf4-934c-40b3-bbdd-ce92d05a2929",
   "metadata": {},
   "outputs": [
    {
     "data": {
      "text/plain": [
       "True"
      ]
     },
     "execution_count": 30,
     "metadata": {},
     "output_type": "execute_result"
    }
   ],
   "source": [
    "tapan.withdraw(20000)"
   ]
  },
  {
   "cell_type": "code",
   "execution_count": 31,
   "id": "6623ee36-fa34-4074-b294-2f198c05baa9",
   "metadata": {},
   "outputs": [
    {
     "data": {
      "text/plain": [
       "7000"
      ]
     },
     "execution_count": 31,
     "metadata": {},
     "output_type": "execute_result"
    }
   ],
   "source": [
    "tapan.get_balance()"
   ]
  },
  {
   "cell_type": "code",
   "execution_count": null,
   "id": "8ac0411d-e408-488e-9dca-1afc72cf7659",
   "metadata": {},
   "outputs": [],
   "source": []
  }
 ],
 "metadata": {
  "kernelspec": {
   "display_name": "Python 3 (ipykernel)",
   "language": "python",
   "name": "python3"
  },
  "language_info": {
   "codemirror_mode": {
    "name": "ipython",
    "version": 3
   },
   "file_extension": ".py",
   "mimetype": "text/x-python",
   "name": "python",
   "nbconvert_exporter": "python",
   "pygments_lexer": "ipython3",
   "version": "3.10.8"
  }
 },
 "nbformat": 4,
 "nbformat_minor": 5
}
